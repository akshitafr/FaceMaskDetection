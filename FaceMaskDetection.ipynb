{
 "cells": [
  {
   "cell_type": "code",
   "execution_count": 2,
   "id": "f113b011",
   "metadata": {},
   "outputs": [],
   "source": [
    "#importing the required libraries\n",
    "\n",
    "from keras.preprocessing.image import ImageDataGenerator, img_to_array, load_img\n",
    "from keras.applications.mobilenet_v2 import MobileNetV2\n",
    "from keras.layers import Conv2D, AveragePooling2D, Flatten, Dropout, Dense, Input\n",
    "from keras.models import Sequential, Model\n",
    "from keras.optimizers import Adam\n",
    "from keras.applications.mobilenet_v2 import preprocess_input\n",
    "from tensorflow.keras.utils import to_categorical\n",
    "from sklearn.preprocessing import LabelBinarizer\n",
    "from sklearn.model_selection import train_test_split\n",
    "from sklearn.metrics import classification_report\n",
    "from imutils import paths\n",
    "import matplotlib.pyplot as plt\n",
    "import numpy as np\n",
    "import os\n",
    "\n",
    "#from keras.callbacks import TensorBoard,ModelCheckpoint\n",
    "#from sklearn.metrics import f1_score \n",
    "#from sklearn.utils import shuffle "
   ]
  },
  {
   "cell_type": "code",
   "execution_count": 4,
   "id": "af8a10ba",
   "metadata": {},
   "outputs": [
    {
     "name": "stdout",
     "output_type": "stream",
     "text": [
      "loading images...\n"
     ]
    }
   ],
   "source": [
    "initial_learning_rate = 1e-4\n",
    "Epochs = 20\n",
    "Batch_size = 32\n",
    "\n",
    "directory = 'C:\\\\Users\\\\Akshita\\\\Desktop\\\\facemaskdetection\\\\dataset\\\\train'\n",
    "categories = ['with_mask','without_mask']\n",
    "print ('loading images...')"
   ]
  },
  {
   "cell_type": "code",
   "execution_count": 5,
   "id": "0b1cbb5e",
   "metadata": {},
   "outputs": [
    {
     "name": "stderr",
     "output_type": "stream",
     "text": [
      "C:\\Users\\Akshita\\anaconda3\\lib\\site-packages\\PIL\\Image.py:2966: UserWarning: image file could not be identified because WEBP support not installed\n",
      "  warnings.warn(message)\n"
     ]
    },
    {
     "ename": "UnidentifiedImageError",
     "evalue": "cannot identify image file <_io.BytesIO object at 0x000001B9283D48B0>",
     "output_type": "error",
     "traceback": [
      "\u001b[1;31m---------------------------------------------------------------------------\u001b[0m",
      "\u001b[1;31mUnidentifiedImageError\u001b[0m                    Traceback (most recent call last)",
      "\u001b[1;32m<ipython-input-5-0779e8d4da4f>\u001b[0m in \u001b[0;36m<module>\u001b[1;34m\u001b[0m\n\u001b[0;32m      6\u001b[0m     \u001b[1;32mfor\u001b[0m \u001b[0mimg\u001b[0m \u001b[1;32min\u001b[0m \u001b[0mos\u001b[0m\u001b[1;33m.\u001b[0m\u001b[0mlistdir\u001b[0m\u001b[1;33m(\u001b[0m\u001b[0mpath\u001b[0m\u001b[1;33m)\u001b[0m\u001b[1;33m:\u001b[0m\u001b[1;33m\u001b[0m\u001b[1;33m\u001b[0m\u001b[0m\n\u001b[0;32m      7\u001b[0m         \u001b[0mimg_path\u001b[0m \u001b[1;33m=\u001b[0m \u001b[0mos\u001b[0m\u001b[1;33m.\u001b[0m\u001b[0mpath\u001b[0m\u001b[1;33m.\u001b[0m\u001b[0mjoin\u001b[0m\u001b[1;33m(\u001b[0m\u001b[0mpath\u001b[0m\u001b[1;33m,\u001b[0m\u001b[0mimg\u001b[0m\u001b[1;33m)\u001b[0m\u001b[1;33m\u001b[0m\u001b[1;33m\u001b[0m\u001b[0m\n\u001b[1;32m----> 8\u001b[1;33m         \u001b[0mimage\u001b[0m \u001b[1;33m=\u001b[0m \u001b[0mload_img\u001b[0m\u001b[1;33m(\u001b[0m\u001b[0mimg_path\u001b[0m\u001b[1;33m,\u001b[0m\u001b[0mtarget_size\u001b[0m \u001b[1;33m=\u001b[0m \u001b[1;33m(\u001b[0m\u001b[1;36m224\u001b[0m\u001b[1;33m,\u001b[0m\u001b[1;36m224\u001b[0m\u001b[1;33m)\u001b[0m\u001b[1;33m)\u001b[0m\u001b[1;33m\u001b[0m\u001b[1;33m\u001b[0m\u001b[0m\n\u001b[0m\u001b[0;32m      9\u001b[0m         \u001b[0mimage\u001b[0m \u001b[1;33m=\u001b[0m \u001b[0mimg_to_array\u001b[0m\u001b[1;33m(\u001b[0m\u001b[0mimage\u001b[0m\u001b[1;33m)\u001b[0m\u001b[1;33m\u001b[0m\u001b[1;33m\u001b[0m\u001b[0m\n\u001b[0;32m     10\u001b[0m         \u001b[0mimage\u001b[0m \u001b[1;33m=\u001b[0m \u001b[0mpreprocess_input\u001b[0m\u001b[1;33m(\u001b[0m\u001b[0mimage\u001b[0m\u001b[1;33m)\u001b[0m\u001b[1;33m\u001b[0m\u001b[1;33m\u001b[0m\u001b[0m\n",
      "\u001b[1;32m~\\anaconda3\\lib\\site-packages\\keras\\preprocessing\\image.py\u001b[0m in \u001b[0;36mload_img\u001b[1;34m(path, grayscale, color_mode, target_size, interpolation)\u001b[0m\n\u001b[0;32m    290\u001b[0m       \u001b[0mValueError\u001b[0m\u001b[1;33m:\u001b[0m \u001b[1;32mif\u001b[0m \u001b[0minterpolation\u001b[0m \u001b[0mmethod\u001b[0m \u001b[1;32mis\u001b[0m \u001b[1;32mnot\u001b[0m \u001b[0msupported\u001b[0m\u001b[1;33m.\u001b[0m\u001b[1;33m\u001b[0m\u001b[1;33m\u001b[0m\u001b[0m\n\u001b[0;32m    291\u001b[0m   \"\"\"\n\u001b[1;32m--> 292\u001b[1;33m   return image.load_img(path, grayscale=grayscale, color_mode=color_mode,\n\u001b[0m\u001b[0;32m    293\u001b[0m                         target_size=target_size, interpolation=interpolation)\n\u001b[0;32m    294\u001b[0m \u001b[1;33m\u001b[0m\u001b[0m\n",
      "\u001b[1;32m~\\anaconda3\\lib\\site-packages\\keras_preprocessing\\image\\utils.py\u001b[0m in \u001b[0;36mload_img\u001b[1;34m(path, grayscale, color_mode, target_size, interpolation)\u001b[0m\n\u001b[0;32m    112\u001b[0m                           'The use of `load_img` requires PIL.')\n\u001b[0;32m    113\u001b[0m     \u001b[1;32mwith\u001b[0m \u001b[0mopen\u001b[0m\u001b[1;33m(\u001b[0m\u001b[0mpath\u001b[0m\u001b[1;33m,\u001b[0m \u001b[1;34m'rb'\u001b[0m\u001b[1;33m)\u001b[0m \u001b[1;32mas\u001b[0m \u001b[0mf\u001b[0m\u001b[1;33m:\u001b[0m\u001b[1;33m\u001b[0m\u001b[1;33m\u001b[0m\u001b[0m\n\u001b[1;32m--> 114\u001b[1;33m         \u001b[0mimg\u001b[0m \u001b[1;33m=\u001b[0m \u001b[0mpil_image\u001b[0m\u001b[1;33m.\u001b[0m\u001b[0mopen\u001b[0m\u001b[1;33m(\u001b[0m\u001b[0mio\u001b[0m\u001b[1;33m.\u001b[0m\u001b[0mBytesIO\u001b[0m\u001b[1;33m(\u001b[0m\u001b[0mf\u001b[0m\u001b[1;33m.\u001b[0m\u001b[0mread\u001b[0m\u001b[1;33m(\u001b[0m\u001b[1;33m)\u001b[0m\u001b[1;33m)\u001b[0m\u001b[1;33m)\u001b[0m\u001b[1;33m\u001b[0m\u001b[1;33m\u001b[0m\u001b[0m\n\u001b[0m\u001b[0;32m    115\u001b[0m         \u001b[1;32mif\u001b[0m \u001b[0mcolor_mode\u001b[0m \u001b[1;33m==\u001b[0m \u001b[1;34m'grayscale'\u001b[0m\u001b[1;33m:\u001b[0m\u001b[1;33m\u001b[0m\u001b[1;33m\u001b[0m\u001b[0m\n\u001b[0;32m    116\u001b[0m             \u001b[1;31m# if image is not already an 8-bit, 16-bit or 32-bit grayscale image\u001b[0m\u001b[1;33m\u001b[0m\u001b[1;33m\u001b[0m\u001b[1;33m\u001b[0m\u001b[0m\n",
      "\u001b[1;32m~\\anaconda3\\lib\\site-packages\\PIL\\Image.py\u001b[0m in \u001b[0;36mopen\u001b[1;34m(fp, mode, formats)\u001b[0m\n\u001b[0;32m   2965\u001b[0m     \u001b[1;32mfor\u001b[0m \u001b[0mmessage\u001b[0m \u001b[1;32min\u001b[0m \u001b[0maccept_warnings\u001b[0m\u001b[1;33m:\u001b[0m\u001b[1;33m\u001b[0m\u001b[1;33m\u001b[0m\u001b[0m\n\u001b[0;32m   2966\u001b[0m         \u001b[0mwarnings\u001b[0m\u001b[1;33m.\u001b[0m\u001b[0mwarn\u001b[0m\u001b[1;33m(\u001b[0m\u001b[0mmessage\u001b[0m\u001b[1;33m)\u001b[0m\u001b[1;33m\u001b[0m\u001b[1;33m\u001b[0m\u001b[0m\n\u001b[1;32m-> 2967\u001b[1;33m     raise UnidentifiedImageError(\n\u001b[0m\u001b[0;32m   2968\u001b[0m         \u001b[1;34m\"cannot identify image file %r\"\u001b[0m \u001b[1;33m%\u001b[0m \u001b[1;33m(\u001b[0m\u001b[0mfilename\u001b[0m \u001b[1;32mif\u001b[0m \u001b[0mfilename\u001b[0m \u001b[1;32melse\u001b[0m \u001b[0mfp\u001b[0m\u001b[1;33m)\u001b[0m\u001b[1;33m\u001b[0m\u001b[1;33m\u001b[0m\u001b[0m\n\u001b[0;32m   2969\u001b[0m     )\n",
      "\u001b[1;31mUnidentifiedImageError\u001b[0m: cannot identify image file <_io.BytesIO object at 0x000001B9283D48B0>"
     ]
    }
   ],
   "source": [
    "data = []\n",
    "labels = []\n",
    "\n",
    "for category in categories:\n",
    "    path = os.path.join(directory,category)\n",
    "    for img in os.listdir(path):\n",
    "        img_path = os.path.join(path,img)\n",
    "        image = load_img(img_path,target_size = (224,224))\n",
    "        image = img_to_array(image)\n",
    "        image = preprocess_input(image)\n",
    "        \n",
    "        data.append(image)\n",
    "        labels.append(category)"
   ]
  },
  {
   "cell_type": "code",
   "execution_count": 6,
   "id": "799ddea4",
   "metadata": {},
   "outputs": [],
   "source": [
    "lb = LabelBinarizer()\n",
    "labels = lb.fit_transform(labels)\n",
    "labels = to_categorical(labels)\n",
    "\n",
    "data = np.array(data, dtype = 'float32')\n",
    "labels = np.array(labels)"
   ]
  },
  {
   "cell_type": "code",
   "execution_count": 7,
   "id": "903b7d8f",
   "metadata": {},
   "outputs": [],
   "source": [
    "Xtrain,Xtest,Ytrain,Ytest = train_test_split(data,labels,test_size = 0.20,stratify = labels, random_state = 42)"
   ]
  },
  {
   "cell_type": "code",
   "execution_count": 8,
   "id": "390a9058",
   "metadata": {},
   "outputs": [],
   "source": [
    "aug = ImageDataGenerator(\n",
    "rotation_range = 20,\n",
    "zoom_range = 0.15,\n",
    "width_shift_range = 0.2,\n",
    "height_shift_range = 0.2,\n",
    "shear_range = 0.15,\n",
    "horizontal_flip = True,\n",
    "fill_mode = 'nearest')"
   ]
  },
  {
   "cell_type": "code",
   "execution_count": 10,
   "id": "1b0ddcea",
   "metadata": {},
   "outputs": [
    {
     "name": "stdout",
     "output_type": "stream",
     "text": [
      "WARNING:tensorflow:`input_shape` is undefined or non-square, or `rows` is not in [96, 128, 160, 192, 224]. Weights for input shape (224, 224) will be loaded as the default.\n",
      "compiling model\n",
      "training model...\n"
     ]
    }
   ],
   "source": [
    "baseModel = MobileNetV2(weights = 'imagenet', include_top = False,input_tensor = Input(shape = (224,224,3)))\n",
    "\n",
    "headmodel = baseModel.output\n",
    "headmodel = AveragePooling2D(pool_size = (7,7))(headmodel)\n",
    "headmodel = Flatten(name = 'flatten')(headmodel)\n",
    "headmodel = Dense(128,activation = 'relu')(headmodel)\n",
    "headmodel = Dropout(0.5)(headmodel)\n",
    "headmodel = Dense(2,activation = 'softmax')(headmodel)\n",
    "\n",
    "model = Model(inputs = baseModel.input, outputs = headmodel)\n",
    "\n",
    "for layer in baseModel.layers:\n",
    "    layer.trainable = False\n",
    "    \n",
    "print(\"compiling model\")\n",
    "opt = Adam(learning_rate = initial_learning_rate, decay = initial_learning_rate/Epochs)\n",
    "model.compile(optimizer = opt, loss = 'binary_crossentropy',metrics = ['accuracy'])   \n",
    "print('training model...')"
   ]
  },
  {
   "cell_type": "code",
   "execution_count": 11,
   "id": "8c5c6bd1",
   "metadata": {},
   "outputs": [
    {
     "name": "stdout",
     "output_type": "stream",
     "text": [
      "Epoch 1/20\n",
      "32/32 [==============================] - 53s 999ms/step - loss: 0.5771 - accuracy: 0.7560 - val_loss: 0.2288 - val_accuracy: 0.9806\n",
      "Epoch 2/20\n",
      "32/32 [==============================] - 28s 888ms/step - loss: 0.2551 - accuracy: 0.9427 - val_loss: 0.1153 - val_accuracy: 0.9922\n",
      "Epoch 3/20\n",
      "32/32 [==============================] - 32s 1s/step - loss: 0.1643 - accuracy: 0.9658 - val_loss: 0.0744 - val_accuracy: 0.9922\n",
      "Epoch 4/20\n",
      "32/32 [==============================] - 32s 1s/step - loss: 0.0967 - accuracy: 0.9865 - val_loss: 0.0551 - val_accuracy: 0.9922\n",
      "Epoch 5/20\n",
      "32/32 [==============================] - 35s 1s/step - loss: 0.0807 - accuracy: 0.9879 - val_loss: 0.0429 - val_accuracy: 0.9922\n",
      "Epoch 6/20\n",
      "32/32 [==============================] - 37s 1s/step - loss: 0.0623 - accuracy: 0.9851 - val_loss: 0.0367 - val_accuracy: 0.9922\n",
      "Epoch 7/20\n",
      "32/32 [==============================] - 39s 1s/step - loss: 0.0598 - accuracy: 0.9897 - val_loss: 0.0322 - val_accuracy: 0.9922\n",
      "Epoch 8/20\n",
      "32/32 [==============================] - 37s 1s/step - loss: 0.0527 - accuracy: 0.9865 - val_loss: 0.0279 - val_accuracy: 0.9922\n",
      "Epoch 9/20\n",
      "32/32 [==============================] - 34s 1s/step - loss: 0.0517 - accuracy: 0.9884 - val_loss: 0.0245 - val_accuracy: 0.9961\n",
      "Epoch 10/20\n",
      "32/32 [==============================] - 39s 1s/step - loss: 0.0410 - accuracy: 0.9921 - val_loss: 0.0235 - val_accuracy: 0.9922\n",
      "Epoch 11/20\n",
      "32/32 [==============================] - 33s 1s/step - loss: 0.0281 - accuracy: 0.9972 - val_loss: 0.0223 - val_accuracy: 0.9922\n",
      "Epoch 12/20\n",
      "32/32 [==============================] - 33s 1s/step - loss: 0.0421 - accuracy: 0.9923 - val_loss: 0.0206 - val_accuracy: 0.9961\n",
      "Epoch 13/20\n",
      "32/32 [==============================] - 33s 1s/step - loss: 0.0337 - accuracy: 0.9906 - val_loss: 0.0189 - val_accuracy: 0.9961\n",
      "Epoch 14/20\n",
      "32/32 [==============================] - 33s 1s/step - loss: 0.0376 - accuracy: 0.9900 - val_loss: 0.0179 - val_accuracy: 0.9961\n",
      "Epoch 15/20\n",
      "32/32 [==============================] - 35s 1s/step - loss: 0.0278 - accuracy: 0.9956 - val_loss: 0.0184 - val_accuracy: 0.9922\n",
      "Epoch 16/20\n",
      "32/32 [==============================] - 34s 1s/step - loss: 0.0265 - accuracy: 0.9941 - val_loss: 0.0170 - val_accuracy: 0.9961\n",
      "Epoch 17/20\n",
      "32/32 [==============================] - 33s 1s/step - loss: 0.0238 - accuracy: 0.9950 - val_loss: 0.0150 - val_accuracy: 0.9961\n",
      "Epoch 18/20\n",
      "32/32 [==============================] - 34s 1s/step - loss: 0.0198 - accuracy: 0.9987 - val_loss: 0.0153 - val_accuracy: 0.9961\n",
      "Epoch 19/20\n",
      "32/32 [==============================] - 33s 1s/step - loss: 0.0181 - accuracy: 0.9979 - val_loss: 0.0163 - val_accuracy: 0.9961\n",
      "Epoch 20/20\n",
      "32/32 [==============================] - 33s 1s/step - loss: 0.0196 - accuracy: 0.9947 - val_loss: 0.0154 - val_accuracy: 0.9961\n",
      "Evaluating network...\n"
     ]
    }
   ],
   "source": [
    "H = model.fit(\n",
    "aug.flow(Xtrain, Ytrain,batch_size = Batch_size),\n",
    "steps_per_epoch = len(Xtrain) // Batch_size,\n",
    "validation_data = (Xtest, Ytest),\n",
    "validation_steps = len(Xtest) // Batch_size,\n",
    "epochs = Epochs)\n",
    "\n",
    "print('Evaluating network...')\n",
    "predIdxs = model.predict(Xtest,batch_size = Batch_size)"
   ]
  },
  {
   "cell_type": "code",
   "execution_count": 12,
   "id": "70bbdc85",
   "metadata": {},
   "outputs": [
    {
     "name": "stdout",
     "output_type": "stream",
     "text": [
      "              precision    recall  f1-score   support\n",
      "\n",
      "   with_mask       1.00      0.99      1.00       132\n",
      "without_mask       0.99      1.00      1.00       126\n",
      "\n",
      "    accuracy                           1.00       258\n",
      "   macro avg       1.00      1.00      1.00       258\n",
      "weighted avg       1.00      1.00      1.00       258\n",
      "\n"
     ]
    }
   ],
   "source": [
    "predIdxs = np.argmax(predIdxs, axis = 1)\n",
    "\n",
    "print(classification_report(Ytest.argmax(axis = 1),predIdxs, target_names = lb.classes_))"
   ]
  },
  {
   "cell_type": "code",
   "execution_count": 13,
   "id": "9bf42c97",
   "metadata": {},
   "outputs": [
    {
     "name": "stdout",
     "output_type": "stream",
     "text": [
      "saving mask detector model...\n"
     ]
    },
    {
     "name": "stderr",
     "output_type": "stream",
     "text": [
      "C:\\Users\\Akshita\\anaconda3\\lib\\site-packages\\keras\\utils\\generic_utils.py:494: CustomMaskWarning: Custom mask layers require a config and must override get_config. When loading, the custom mask layer must be passed to the custom_objects argument.\n",
      "  warnings.warn('Custom mask layers require a config and must override '\n"
     ]
    }
   ],
   "source": [
    "print(\"saving mask detector model...\")\n",
    "model.save('mask_detector.model',save_format = 'h5')"
   ]
  },
  {
   "cell_type": "code",
   "execution_count": 18,
   "id": "8c636dfc",
   "metadata": {},
   "outputs": [
    {
     "data": {
      "image/png": "[encoded data removed]",
      "text/plain": [
       "<Figure size 432x288 with 1 Axes>"
      ]
     },
     "metadata": {},
     "output_type": "display_data"
    }
   ],
   "source": [
    "N = Epochs\n",
    "plt.style.use('ggplot')\n",
    "plt.figure()\n",
    "plt.plot(np.arange(0,N),H.history[\"loss\"],label = 'train_loss')\n",
    "plt.plot(np.arange(0,N),H.history[\"val_loss\"],label = 'val_loss')\n",
    "plt.plot(np.arange(0,N),H.history[\"accuracy\"],label = 'train_acc')\n",
    "plt.plot(np.arange(0,N),H.history[\"val_accuracy\"],label = 'val_acc')\n",
    "plt.title('Training loss and accuracy')\n",
    "plt.xlabel('Epoch #')\n",
    "plt.ylabel('Loss/Accuracy')\n",
    "plt.legend(loc = 'upper right')\n",
    "plt.savefig('plot.png')"
   ]
  }
 ],
 "metadata": {
  "kernelspec": {
   "display_name": "Python 3",
   "language": "python",
   "name": "python3"
  },
  "language_info": {
   "codemirror_mode": {
    "name": "ipython",
    "version": 3
   },
   "file_extension": ".py",
   "mimetype": "text/x-python",
   "name": "python",
   "nbconvert_exporter": "python",
   "pygments_lexer": "ipython3",
   "version": "3.8.8"
  }
 },
 "nbformat": 4,
 "nbformat_minor": 5
}
