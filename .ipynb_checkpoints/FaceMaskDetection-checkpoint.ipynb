{
 "cells": [
  {
   "cell_type": "code",
   "execution_count": 5,
   "id": "f113b011",
   "metadata": {},
   "outputs": [],
   "source": [
    "#importing the required libraries\n",
    "\n",
    "from keras.preprocessing.image import ImageDataGenerator, img_to_array, load_img\n",
    "from keras.applications.mobilenet_v2 import MobileNetV2\n",
    "from keras.layers import Conv2D, AveragePooling2D, Flatten, Dropout, Dense, Input\n",
    "from keras.models import Sequential, Model\n",
    "from keras.optimizers import Adam\n",
    "from keras.applications.mobilenet_v2 import preprocess_input\n",
    "from tensorflow.keras.utils import to_categorical\n",
    "from sklearn.preprocessing import LabelBinarizer\n",
    "from sklearn.model_selection import train_test_split\n",
    "from sklearn.metrics import classification_report\n",
    "from imutils import paths\n",
    "import matplotlib.pyplot as plt\n",
    "import numpy as np\n",
    "import os\n",
    "\n",
    "#from keras.callbacks import TensorBoard,ModelCheckpoint\n",
    "#from sklearn.metrics import f1_score \n",
    "#from sklearn.utils import shuffle "
   ]
  },
  {
   "cell_type": "code",
   "execution_count": 11,
   "id": "af8a10ba",
   "metadata": {},
   "outputs": [
    {
     "name": "stdout",
     "output_type": "stream",
     "text": [
      "loading images...\n"
     ]
    }
   ],
   "source": [
    "initial_learning_rate = 1e-4\n",
    "Epochs = 20\n",
    "Batch_size = 32\n",
    "\n",
    "directory = 'C:\\\\Users\\\\Akshita\\\\Desktop\\\\facemaskdetection\\\\dataset\\\\train'\n",
    "categories = ['with_mask','without_mask']\n",
    "print ('loading images...')"
   ]
  },
  {
   "cell_type": "code",
   "execution_count": 12,
   "id": "0b1cbb5e",
   "metadata": {},
   "outputs": [
    {
     "name": "stderr",
     "output_type": "stream",
     "text": [
      "C:\\Users\\Akshita\\anaconda3\\lib\\site-packages\\PIL\\Image.py:2966: UserWarning: image file could not be identified because WEBP support not installed\n",
      "  warnings.warn(message)\n"
     ]
    },
    {
     "ename": "UnidentifiedImageError",
     "evalue": "cannot identify image file <_io.BytesIO object at 0x000001D07C141E00>",
     "output_type": "error",
     "traceback": [
      "\u001b[1;31m---------------------------------------------------------------------------\u001b[0m",
      "\u001b[1;31mUnidentifiedImageError\u001b[0m                    Traceback (most recent call last)",
      "\u001b[1;32m<ipython-input-12-0779e8d4da4f>\u001b[0m in \u001b[0;36m<module>\u001b[1;34m\u001b[0m\n\u001b[0;32m      6\u001b[0m     \u001b[1;32mfor\u001b[0m \u001b[0mimg\u001b[0m \u001b[1;32min\u001b[0m \u001b[0mos\u001b[0m\u001b[1;33m.\u001b[0m\u001b[0mlistdir\u001b[0m\u001b[1;33m(\u001b[0m\u001b[0mpath\u001b[0m\u001b[1;33m)\u001b[0m\u001b[1;33m:\u001b[0m\u001b[1;33m\u001b[0m\u001b[1;33m\u001b[0m\u001b[0m\n\u001b[0;32m      7\u001b[0m         \u001b[0mimg_path\u001b[0m \u001b[1;33m=\u001b[0m \u001b[0mos\u001b[0m\u001b[1;33m.\u001b[0m\u001b[0mpath\u001b[0m\u001b[1;33m.\u001b[0m\u001b[0mjoin\u001b[0m\u001b[1;33m(\u001b[0m\u001b[0mpath\u001b[0m\u001b[1;33m,\u001b[0m\u001b[0mimg\u001b[0m\u001b[1;33m)\u001b[0m\u001b[1;33m\u001b[0m\u001b[1;33m\u001b[0m\u001b[0m\n\u001b[1;32m----> 8\u001b[1;33m         \u001b[0mimage\u001b[0m \u001b[1;33m=\u001b[0m \u001b[0mload_img\u001b[0m\u001b[1;33m(\u001b[0m\u001b[0mimg_path\u001b[0m\u001b[1;33m,\u001b[0m\u001b[0mtarget_size\u001b[0m \u001b[1;33m=\u001b[0m \u001b[1;33m(\u001b[0m\u001b[1;36m224\u001b[0m\u001b[1;33m,\u001b[0m\u001b[1;36m224\u001b[0m\u001b[1;33m)\u001b[0m\u001b[1;33m)\u001b[0m\u001b[1;33m\u001b[0m\u001b[1;33m\u001b[0m\u001b[0m\n\u001b[0m\u001b[0;32m      9\u001b[0m         \u001b[0mimage\u001b[0m \u001b[1;33m=\u001b[0m \u001b[0mimg_to_array\u001b[0m\u001b[1;33m(\u001b[0m\u001b[0mimage\u001b[0m\u001b[1;33m)\u001b[0m\u001b[1;33m\u001b[0m\u001b[1;33m\u001b[0m\u001b[0m\n\u001b[0;32m     10\u001b[0m         \u001b[0mimage\u001b[0m \u001b[1;33m=\u001b[0m \u001b[0mpreprocess_input\u001b[0m\u001b[1;33m(\u001b[0m\u001b[0mimage\u001b[0m\u001b[1;33m)\u001b[0m\u001b[1;33m\u001b[0m\u001b[1;33m\u001b[0m\u001b[0m\n",
      "\u001b[1;32m~\\anaconda3\\lib\\site-packages\\keras\\preprocessing\\image.py\u001b[0m in \u001b[0;36mload_img\u001b[1;34m(path, grayscale, color_mode, target_size, interpolation)\u001b[0m\n\u001b[0;32m    290\u001b[0m       \u001b[0mValueError\u001b[0m\u001b[1;33m:\u001b[0m \u001b[1;32mif\u001b[0m \u001b[0minterpolation\u001b[0m \u001b[0mmethod\u001b[0m \u001b[1;32mis\u001b[0m \u001b[1;32mnot\u001b[0m \u001b[0msupported\u001b[0m\u001b[1;33m.\u001b[0m\u001b[1;33m\u001b[0m\u001b[1;33m\u001b[0m\u001b[0m\n\u001b[0;32m    291\u001b[0m   \"\"\"\n\u001b[1;32m--> 292\u001b[1;33m   return image.load_img(path, grayscale=grayscale, color_mode=color_mode,\n\u001b[0m\u001b[0;32m    293\u001b[0m                         target_size=target_size, interpolation=interpolation)\n\u001b[0;32m    294\u001b[0m \u001b[1;33m\u001b[0m\u001b[0m\n",
      "\u001b[1;32m~\\anaconda3\\lib\\site-packages\\keras_preprocessing\\image\\utils.py\u001b[0m in \u001b[0;36mload_img\u001b[1;34m(path, grayscale, color_mode, target_size, interpolation)\u001b[0m\n\u001b[0;32m    112\u001b[0m                           'The use of `load_img` requires PIL.')\n\u001b[0;32m    113\u001b[0m     \u001b[1;32mwith\u001b[0m \u001b[0mopen\u001b[0m\u001b[1;33m(\u001b[0m\u001b[0mpath\u001b[0m\u001b[1;33m,\u001b[0m \u001b[1;34m'rb'\u001b[0m\u001b[1;33m)\u001b[0m \u001b[1;32mas\u001b[0m \u001b[0mf\u001b[0m\u001b[1;33m:\u001b[0m\u001b[1;33m\u001b[0m\u001b[1;33m\u001b[0m\u001b[0m\n\u001b[1;32m--> 114\u001b[1;33m         \u001b[0mimg\u001b[0m \u001b[1;33m=\u001b[0m \u001b[0mpil_image\u001b[0m\u001b[1;33m.\u001b[0m\u001b[0mopen\u001b[0m\u001b[1;33m(\u001b[0m\u001b[0mio\u001b[0m\u001b[1;33m.\u001b[0m\u001b[0mBytesIO\u001b[0m\u001b[1;33m(\u001b[0m\u001b[0mf\u001b[0m\u001b[1;33m.\u001b[0m\u001b[0mread\u001b[0m\u001b[1;33m(\u001b[0m\u001b[1;33m)\u001b[0m\u001b[1;33m)\u001b[0m\u001b[1;33m)\u001b[0m\u001b[1;33m\u001b[0m\u001b[1;33m\u001b[0m\u001b[0m\n\u001b[0m\u001b[0;32m    115\u001b[0m         \u001b[1;32mif\u001b[0m \u001b[0mcolor_mode\u001b[0m \u001b[1;33m==\u001b[0m \u001b[1;34m'grayscale'\u001b[0m\u001b[1;33m:\u001b[0m\u001b[1;33m\u001b[0m\u001b[1;33m\u001b[0m\u001b[0m\n\u001b[0;32m    116\u001b[0m             \u001b[1;31m# if image is not already an 8-bit, 16-bit or 32-bit grayscale image\u001b[0m\u001b[1;33m\u001b[0m\u001b[1;33m\u001b[0m\u001b[1;33m\u001b[0m\u001b[0m\n",
      "\u001b[1;32m~\\anaconda3\\lib\\site-packages\\PIL\\Image.py\u001b[0m in \u001b[0;36mopen\u001b[1;34m(fp, mode, formats)\u001b[0m\n\u001b[0;32m   2965\u001b[0m     \u001b[1;32mfor\u001b[0m \u001b[0mmessage\u001b[0m \u001b[1;32min\u001b[0m \u001b[0maccept_warnings\u001b[0m\u001b[1;33m:\u001b[0m\u001b[1;33m\u001b[0m\u001b[1;33m\u001b[0m\u001b[0m\n\u001b[0;32m   2966\u001b[0m         \u001b[0mwarnings\u001b[0m\u001b[1;33m.\u001b[0m\u001b[0mwarn\u001b[0m\u001b[1;33m(\u001b[0m\u001b[0mmessage\u001b[0m\u001b[1;33m)\u001b[0m\u001b[1;33m\u001b[0m\u001b[1;33m\u001b[0m\u001b[0m\n\u001b[1;32m-> 2967\u001b[1;33m     raise UnidentifiedImageError(\n\u001b[0m\u001b[0;32m   2968\u001b[0m         \u001b[1;34m\"cannot identify image file %r\"\u001b[0m \u001b[1;33m%\u001b[0m \u001b[1;33m(\u001b[0m\u001b[0mfilename\u001b[0m \u001b[1;32mif\u001b[0m \u001b[0mfilename\u001b[0m \u001b[1;32melse\u001b[0m \u001b[0mfp\u001b[0m\u001b[1;33m)\u001b[0m\u001b[1;33m\u001b[0m\u001b[1;33m\u001b[0m\u001b[0m\n\u001b[0;32m   2969\u001b[0m     )\n",
      "\u001b[1;31mUnidentifiedImageError\u001b[0m: cannot identify image file <_io.BytesIO object at 0x000001D07C141E00>"
     ]
    }
   ],
   "source": [
    "data = []\n",
    "labels = []\n",
    "\n",
    "for category in categories:\n",
    "    path = os.path.join(directory,category)\n",
    "    for img in os.listdir(path):\n",
    "        img_path = os.path.join(path,img)\n",
    "        image = load_img(img_path,target_size = (224,224))\n",
    "        image = img_to_array(image)\n",
    "        image = preprocess_input(image)\n",
    "        \n",
    "        data.append(image)\n",
    "        labels.append(category)"
   ]
  },
  {
   "cell_type": "code",
   "execution_count": 13,
   "id": "799ddea4",
   "metadata": {},
   "outputs": [],
   "source": [
    "lb = LabelBinarizer()\n",
    "labels = lb.fit_transform(labels)\n",
    "labels = to_categorical(labels)\n",
    "\n",
    "data = np.array(data, dtype = 'float32')\n",
    "labels = np.array(labels)"
   ]
  },
  {
   "cell_type": "code",
   "execution_count": 14,
   "id": "903b7d8f",
   "metadata": {},
   "outputs": [],
   "source": [
    "Xtrain,Xtest,Ytrain,Ytest = train_test_split(data,labels,test_size = 0.20,stratify = labels, random_state = 42)"
   ]
  },
  {
   "cell_type": "code",
   "execution_count": 15,
   "id": "390a9058",
   "metadata": {},
   "outputs": [],
   "source": [
    "aug = ImageDataGenerator(\n",
    "rotation_range = 20,\n",
    "zoom_range = 0.15,\n",
    "width_shift_range = 0.2,\n",
    "height_shift_range = 0.2,\n",
    "shear_range = 0.15,\n",
    "horizontal_flip = True,\n",
    "fill_mode = 'nearest')"
   ]
  },
  {
   "cell_type": "code",
   "execution_count": 18,
   "id": "1b0ddcea",
   "metadata": {},
   "outputs": [
    {
     "name": "stdout",
     "output_type": "stream",
     "text": [
      "WARNING:tensorflow:`input_shape` is undefined or non-square, or `rows` is not in [96, 128, 160, 192, 224]. Weights for input shape (224, 224) will be loaded as the default.\n",
      "training model...\n"
     ]
    }
   ],
   "source": [
    "baseModel = MobileNetV2(weights = 'imagenet', include_top = False,input_tensor = Input(shape = (224,224,3)))\n",
    "\n",
    "headmodel = baseModel.output\n",
    "headmodel = AveragePooling2D(pool_size = (7,7))(headmodel)\n",
    "headmodel = Flatten(name = 'flatten')(headmodel)\n",
    "headmodel = Dense(128,activation = 'relu')(headmodel)\n",
    "headmodel = Dropout(0.5)(headmodel)\n",
    "headmodel = Dense(2,activation = 'softmax')(headmodel)\n",
    "\n",
    "model = Model(inputs = baseModel.input, outputs = headmodel)\n",
    "\n",
    "for layer in baseModel.layers:\n",
    "    \n",
    "    layer.trainable = False\n",
    "model.compile(optimizer = 'adam', loss = 'binary_crossentropy')   \n",
    "print('training model...')"
   ]
  },
  {
   "cell_type": "code",
   "execution_count": 19,
   "id": "8c5c6bd1",
   "metadata": {},
   "outputs": [
    {
     "name": "stdout",
     "output_type": "stream",
     "text": [
      "Epoch 1/20\n",
      "32/32 [==============================] - 100s 2s/step - loss: 0.3344 - val_loss: 0.0398\n",
      "Epoch 2/20\n",
      "32/32 [==============================] - 31s 955ms/step - loss: 0.0299 - val_loss: 0.0196\n",
      "Epoch 3/20\n",
      "32/32 [==============================] - 30s 927ms/step - loss: 0.0222 - val_loss: 0.0189\n",
      "Epoch 4/20\n",
      "32/32 [==============================] - 29s 918ms/step - loss: 0.0206 - val_loss: 0.0206\n",
      "Epoch 5/20\n",
      "32/32 [==============================] - 33s 1s/step - loss: 0.0244 - val_loss: 0.0167\n",
      "Epoch 6/20\n",
      "32/32 [==============================] - 33s 1s/step - loss: 0.0134 - val_loss: 0.0161\n",
      "Epoch 7/20\n",
      "32/32 [==============================] - 33s 1s/step - loss: 0.0110 - val_loss: 0.0146\n",
      "Epoch 8/20\n",
      "32/32 [==============================] - 33s 1s/step - loss: 0.0124 - val_loss: 0.0247\n",
      "Epoch 9/20\n",
      "32/32 [==============================] - 33s 1s/step - loss: 0.0047 - val_loss: 0.0432\n",
      "Epoch 10/20\n",
      "32/32 [==============================] - 34s 1s/step - loss: 0.0190 - val_loss: 0.0190\n",
      "Epoch 11/20\n",
      "32/32 [==============================] - 34s 1s/step - loss: 0.0094 - val_loss: 0.0157\n",
      "Epoch 12/20\n",
      "32/32 [==============================] - 33s 1s/step - loss: 0.0081 - val_loss: 0.0195\n",
      "Epoch 13/20\n",
      "32/32 [==============================] - 33s 1s/step - loss: 0.0093 - val_loss: 0.0101\n",
      "Epoch 14/20\n",
      "32/32 [==============================] - 33s 1s/step - loss: 0.0078 - val_loss: 0.0146\n",
      "Epoch 15/20\n",
      "32/32 [==============================] - 33s 1s/step - loss: 0.0025 - val_loss: 0.0143\n",
      "Epoch 16/20\n",
      "32/32 [==============================] - 33s 1s/step - loss: 0.0043 - val_loss: 0.0113\n",
      "Epoch 17/20\n",
      "32/32 [==============================] - 33s 1s/step - loss: 0.0028 - val_loss: 0.0146\n",
      "Epoch 18/20\n",
      "32/32 [==============================] - 33s 1s/step - loss: 0.0106 - val_loss: 0.0077\n",
      "Epoch 19/20\n",
      "32/32 [==============================] - 33s 1s/step - loss: 0.0101 - val_loss: 0.0075\n",
      "Epoch 20/20\n",
      "32/32 [==============================] - 33s 1s/step - loss: 0.0101 - val_loss: 0.0148\n",
      "Evaluating network...\n"
     ]
    }
   ],
   "source": [
    "H = model.fit(\n",
    "aug.flow(Xtrain, Ytrain,batch_size = Batch_size),\n",
    "steps_per_epoch = len(Xtrain) // Batch_size,\n",
    "validation_data = (Xtest, Ytest),\n",
    "validation_steps = len(Xtest) // Batch_size,\n",
    "epochs = Epochs)\n",
    "\n",
    "print('Evaluating network...')\n",
    "predIdxs = model.predict(Xtest,batch_size = Batch_size)"
   ]
  },
  {
   "cell_type": "code",
   "execution_count": 20,
   "id": "70bbdc85",
   "metadata": {},
   "outputs": [
    {
     "name": "stdout",
     "output_type": "stream",
     "text": [
      "              precision    recall  f1-score   support\n",
      "\n",
      "   with_mask       1.00      0.99      1.00       132\n",
      "without_mask       0.99      1.00      1.00       126\n",
      "\n",
      "    accuracy                           1.00       258\n",
      "   macro avg       1.00      1.00      1.00       258\n",
      "weighted avg       1.00      1.00      1.00       258\n",
      "\n"
     ]
    }
   ],
   "source": [
    "predIdxs = np.argmax(predIdxs, axis = 1)\n",
    "\n",
    "print(classification_report(Ytest.argmax(axis = 1),predIdxs, target_names = lb.classes_))"
   ]
  },
  {
   "cell_type": "code",
   "execution_count": 21,
   "id": "9bf42c97",
   "metadata": {},
   "outputs": [
    {
     "name": "stdout",
     "output_type": "stream",
     "text": [
      "saving mask detector model...\n"
     ]
    },
    {
     "name": "stderr",
     "output_type": "stream",
     "text": [
      "C:\\Users\\Akshita\\anaconda3\\lib\\site-packages\\keras\\utils\\generic_utils.py:494: CustomMaskWarning: Custom mask layers require a config and must override get_config. When loading, the custom mask layer must be passed to the custom_objects argument.\n",
      "  warnings.warn('Custom mask layers require a config and must override '\n"
     ]
    }
   ],
   "source": [
    "print(\"saving mask detector model...\")\n",
    "model.save('mask_detector.model',save_format = 'h5')"
   ]
  },
  {
   "cell_type": "code",
   "execution_count": 27,
   "id": "8c636dfc",
   "metadata": {},
   "outputs": [
    {
     "data": {
      "image/png": "[encoded data removed]",
      "text/plain": [
       "<Figure size 432x288 with 1 Axes>"
      ]
     },
     "metadata": {},
     "output_type": "display_data"
    }
   ],
   "source": [
    "N = Epochs\n",
    "plt.style.use('ggplot')\n",
    "plt.figure()\n",
    "plt.plot(np.arange(0,N),H.history[\"loss\"],label = 'train_loss')\n",
    "plt.plot(np.arange(0,N),H.history[\"val_loss\"],label = 'val_loss')\n",
    "#plt.plot(np.arange(0,N),H.history[\"accuracy\"],label = 'train_acc')\n",
    "#plt.plot(np.arange(0,N),H.history[\"val_accuracy\"],label = 'val_acc')\n",
    "plt.title('Training loss and accuracy')\n",
    "plt.xlabel('Epoch #')\n",
    "plt.ylabel('Loss/Accuracy')\n",
    "plt.legend(loc = 'upper right')\n",
    "plt.savefig('plot.png')"
   ]
  },
  {
   "cell_type": "code",
   "execution_count": null,
   "id": "29296503",
   "metadata": {},
   "outputs": [],
   "source": [
    "# now we need to build the neural network\n",
    "#convolution network=> 2 pairs of Conv & MaxPool layers(extract features from data)\n",
    "#then flatten and dropout layer (convert 2D data to 1D and ensure overfitting)\n",
    "#2 Dense layers for classification\n",
    "#model = Sequential([Conv2D(100,(3,3),activation = 'relu',input_shape = (150,150,3)),\n",
    "          #         MaxPooling2D(2,2),\n",
    "          #         Conv2D(100,(3,3), activation = 'relu'), MaxPooling2D(2,2),\n",
    "           #        Flatten(),\n",
    "          #         Dropout(0.5),\n",
    "          #         Dense(50,activation = 'relu'),\n",
    "         #          Dense(2,activation = 'softmax')\n",
    "        #           ])\n",
    "#model.compile(optimizer = 'adam', loss = 'binary_crossentropy', metrics = ['acc'])"
   ]
  },
  {
   "cell_type": "code",
   "execution_count": null,
   "id": "958b24a1",
   "metadata": {},
   "outputs": [],
   "source": [
    "#Image Data Generation\n",
    "\n",
    "#training_directory = './train'\n",
    "#train_dataset = ImageDataGenerator(rescale = 1.0/255, rotation_range = 40\n",
    " #                                  , width_shift_range = 0.2,\n",
    "  ##                                height_shift_range = 0.2,\n",
    "    #                              shear_range = 0.2,\n",
    "     #                              zoom_range = 0.2,\n",
    "      #                             horizontal_flip = True,\n",
    "       #                            fill_mode = 'nearest')\n",
    "\n",
    "#train_generator = train_dataset.flow_from_directory(training_directory,\n",
    " #                                               batch_size = 10,\n",
    "  #                                              target_size = (150, 150))\n",
    "#\n",
    "#\n",
    "#test_directory = './test'\n",
    "#test_dataset = ImageDataGenerator(rescale = 1.0/255)\n",
    "#test_generator = test_dataset.flow_from_directory(test_directory,\n",
    "#                                                batch_size = 10,\n",
    "#                                                target_size = (150, 150))"
   ]
  },
  {
   "cell_type": "code",
   "execution_count": null,
   "id": "8f724da3",
   "metadata": {},
   "outputs": [],
   "source": [
    "#Making a callback checkpoint to save the current best model \n",
    "#while training, after each epoch\n",
    "\n",
    "#checkpoint = ModelCheckpoint('model2-{epoch:03d}.model', \n",
    " #                            monitor = 'val_loss', verbose = 0, \n",
    "  #                           save_best_only = True, mode = 'auto')\n"
   ]
  },
  {
   "cell_type": "code",
   "execution_count": null,
   "id": "01489d48",
   "metadata": {},
   "outputs": [],
   "source": [
    "#training the model \n",
    "\n",
    "#classifier = model.fit_generator(train_generator, epochs = 10,\n",
    " #                               validation_data = test_generator,\n",
    "  #                              callbacks = [checkpoint])"
   ]
  }
 ],
 "metadata": {
  "kernelspec": {
   "display_name": "Python 3",
   "language": "python",
   "name": "python3"
  },
  "language_info": {
   "codemirror_mode": {
    "name": "ipython",
    "version": 3
   },
   "file_extension": ".py",
   "mimetype": "text/x-python",
   "name": "python",
   "nbconvert_exporter": "python",
   "pygments_lexer": "ipython3",
   "version": "3.8.8"
  }
 },
 "nbformat": 4,
 "nbformat_minor": 5
}
